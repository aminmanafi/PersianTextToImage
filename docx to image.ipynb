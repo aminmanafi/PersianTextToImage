{
 "cells": [
  {
   "cell_type": "code",
   "execution_count": null,
   "id": "07644f45-3f81-480b-aceb-75fed88ce06a",
   "metadata": {},
   "outputs": [],
   "source": [
    "import os\n",
    "from PIL import Image, ImageDraw, ImageFont\n",
    "import arabic_reshaper\n",
    "from bidi.algorithm import get_display\n",
    "import re\n",
    "from docx import Document"
   ]
  },
  {
   "cell_type": "code",
   "execution_count": null,
   "id": "a3511b20-019c-4927-9c95-f1306d44dba2",
   "metadata": {},
   "outputs": [],
   "source": [
    "def get_wrapped_text_2(text, font, max_width):\n",
    "    wrapped_lines = []\n",
    "    for line in text.split('\\n'):\n",
    "        if not line.strip():\n",
    "            wrapped_lines.append('')\n",
    "            continue\n",
    "        words = line.split()\n",
    "        current_line = words[0]\n",
    "        for word in words[1:]:\n",
    "            test_line = current_line + \" \" + word\n",
    "            bbox = font.getbbox(test_line)\n",
    "            if bbox[2] - bbox[0] <= max_width:\n",
    "                current_line = test_line\n",
    "            else:\n",
    "                wrapped_lines.append(current_line)\n",
    "                current_line = word\n",
    "        wrapped_lines.append(current_line)\n",
    "    return wrapped_lines"
   ]
  },
  {
   "cell_type": "code",
   "execution_count": null,
   "id": "750a234d-aa52-4d3e-be8f-658f1f904d76",
   "metadata": {},
   "outputs": [],
   "source": [
    "def text_to_image_2(text, font_path, font_size, output_path, max_width=1200, line_spacing=10, extra_line_spacing=20):\n",
    "    reshaped_text = arabic_reshaper.reshape(text)\n",
    "    bidi_text = get_display(reshaped_text)\n",
    "\n",
    "    font = ImageFont.truetype(font_path, font_size)\n",
    "    wrapped_lines = get_wrapped_text_2(bidi_text, font, max_width)\n",
    "    \n",
    "\n",
    "    # Calculate the maximum width of all lines\n",
    "    max_line_width = max(font.getbbox(line)[2] - font.getbbox(line)[0] for line in wrapped_lines)\n",
    "    \n",
    "    # Calculate total height with extra spacing\n",
    "    total_height = 0\n",
    "    for i, line in enumerate(wrapped_lines):\n",
    "        total_height += font_size + line_spacing\n",
    "        total_height += extra_line_spacing\n",
    "        if i == 2 or (i > 2 and (i - 2) % 2 == 0):  # Extra space after 3rd line and then every 2 lines\n",
    "            total_height += extra_line_spacing\n",
    "\n",
    "    # Create an image with the calculated dimensions\n",
    "    image_width = max(max_line_width + 80, max_width + 80)\n",
    "    image = Image.new('RGB', (image_width, total_height + 80), color='white')\n",
    "    draw = ImageDraw.Draw(image)\n",
    "\n",
    "    y_position = 40\n",
    "    for i, line in enumerate(wrapped_lines):\n",
    "        # Calculate the width of the current line\n",
    "        line_width = font.getbbox(line)[2] - font.getbbox(line)[0]\n",
    "        \n",
    "        # Calculate the x position to center the line\n",
    "        x_position = (image_width - line_width) // 2\n",
    "\n",
    "        draw.text((x_position, y_position), line, font=font, fill='black')\n",
    "        y_position += font_size + line_spacing\n",
    "        y_position += extra_line_spacing\n",
    "        if i == 2 or (i > 2 and (i - 2) % 2 == 0):  # Extra space after 3rd line and then every 2 lines\n",
    "            y_position += extra_line_spacing\n",
    "\n",
    "    image.save(output_path)"
   ]
  },
  {
   "cell_type": "code",
   "execution_count": null,
   "id": "76275a6e-8ecd-4997-b40b-0f26b9a9e0ae",
   "metadata": {},
   "outputs": [],
   "source": [
    "def process_poem_file(file_path, output_dir, font_path, font_size, fixed_word):\n",
    "     # Create the main output directory if it doesn't exist\n",
    "    os.makedirs(output_dir, exist_ok=True)\n",
    "\n",
    "    # Define the text files directory\n",
    "    text_dir = os.path.join(output_dir, \"text_files\")\n",
    "\n",
    "    # Check if the text files directory exists\n",
    "    text_files_exist = os.path.exists(text_dir)\n",
    "\n",
    "    if not text_files_exist:\n",
    "        os.makedirs(text_dir)\n",
    "        print(f\"Created text files directory: {text_dir}\")\n",
    "    else:\n",
    "        print(f\"Text files directory already exists: {text_dir}\")\n",
    "\n",
    "    doc = Document(file_path)\n",
    "    full_text = [para.text for para in doc.paragraphs]\n",
    "    \n",
    "    poems = []\n",
    "    current_poem = []\n",
    "    current_piece_number = 0\n",
    "    \n",
    "    pattern = re.compile(f\"^{re.escape(fixed_word)}\\\\s*(\\\\d+)\")\n",
    "    \n",
    "    for line in full_text:\n",
    "        match = pattern.match(line)\n",
    "        if match:\n",
    "            piece_number = int(match.group(1))\n",
    "            if current_poem and piece_number > current_piece_number:\n",
    "                poems.append('\\n'.join(current_poem))\n",
    "                current_poem = []\n",
    "            current_piece_number = piece_number\n",
    "        if line.strip():  # Only add non-empty lines\n",
    "            current_poem.append(line)\n",
    "    \n",
    "    if current_poem:\n",
    "        poems.append('\\n'.join(current_poem))\n",
    "    \n",
    "    for i, poem in enumerate(poems, 1):\n",
    "        # Create image file (always)\n",
    "        image_filename = f\"poem_{i:03d}.png\"  # Use 3-digit numbering\n",
    "        image_path = os.path.join(output_dir, image_filename)\n",
    "        text_to_image_2(poem, font_path, font_size, image_path)\n",
    "        \n",
    "        # Create text file (only if the directory didn't exist before)\n",
    "        if not text_files_exist:\n",
    "            text_filename = f\"poem_{i:03d}.txt\"  # Use 3-digit numbering\n",
    "            text_path = os.path.join(text_dir, text_filename)\n",
    "            with open(text_path, 'w', encoding='utf-8') as text_file:\n",
    "                text_file.write(poem)"
   ]
  },
  {
   "cell_type": "code",
   "execution_count": null,
   "id": "ae0d9fe8-9ab9-4b2b-9775-6f73c8a494bc",
   "metadata": {},
   "outputs": [],
   "source": [
    "# poem\n",
    "poem_path = \"C:/Users/QAZ/Downloads/divan-hafez.docx\"\n",
    "output_path_m = \"D:poemiii/\"\n",
    "fixed_word = \"غزل\""
   ]
  },
  {
   "cell_type": "code",
   "execution_count": null,
   "id": "3d9ee582-2d4d-4fdd-9b3e-0a19ccb19b6a",
   "metadata": {},
   "outputs": [],
   "source": [
    "font_path_m = \"C:/Users/QAZ/AppData/Local/Microsoft/Windows/Fonts/\"\n",
    "font_size = [16,18,20,22,24]\n",
    "font_names = [\"Nazanin.ttf\", \"BArash.ttf\", \"BArshia.ttf\", \"BDavat.ttf\", \"SBARDIYA.TTF\", \"Fantezy.ttf\", \"Jaleh_MRT.ttf\", \"Smooth Light_MRT.ttf\", \"Ghalam-2_MRT.TTF\", \"NasimB.ttf\"]"
   ]
  },
  {
   "cell_type": "code",
   "execution_count": null,
   "id": "42c5d780-73d6-4195-aabd-6fce5bc524e9",
   "metadata": {},
   "outputs": [],
   "source": [
    "for font in font_names:\n",
    "    font_path = font_path_m + font\n",
    "    print(font_path)\n",
    "    for size in font_size:\n",
    "        output_path = output_path_m + font + '-' + str(size)\n",
    "        process_poem_file(poem_path, output_path, font_path, size, fixed_word)"
   ]
  },
  {
   "cell_type": "code",
   "execution_count": null,
   "id": "a4d50fa6-0852-4175-9f43-c1baa425ff15",
   "metadata": {},
   "outputs": [],
   "source": []
  },
  {
   "cell_type": "code",
   "execution_count": null,
   "id": "23b8c86f-21ed-44e1-99f7-627215294cc5",
   "metadata": {},
   "outputs": [],
   "source": []
  },
  {
   "cell_type": "code",
   "execution_count": null,
   "id": "3b71c21b-fc03-4422-a967-756fbe192b75",
   "metadata": {},
   "outputs": [],
   "source": []
  }
 ],
 "metadata": {
  "kernelspec": {
   "display_name": "Python 3 (ipykernel)",
   "language": "python",
   "name": "python3"
  },
  "language_info": {
   "codemirror_mode": {
    "name": "ipython",
    "version": 3
   },
   "file_extension": ".py",
   "mimetype": "text/x-python",
   "name": "python",
   "nbconvert_exporter": "python",
   "pygments_lexer": "ipython3",
   "version": "3.12.4"
  }
 },
 "nbformat": 4,
 "nbformat_minor": 5
}

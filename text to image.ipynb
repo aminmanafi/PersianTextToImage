{
 "cells": [
  {
   "cell_type": "code",
   "execution_count": null,
   "id": "d79cbd0f-a6b7-40bf-95a9-11751022af4d",
   "metadata": {},
   "outputs": [],
   "source": [
    "import os\n",
    "from PIL import Image, ImageDraw, ImageFont\n",
    "import arabic_reshaper\n",
    "from bidi.algorithm import get_display"
   ]
  },
  {
   "cell_type": "code",
   "execution_count": null,
   "id": "f9c9b2c4-c1f2-4893-9dad-8d838cb35075",
   "metadata": {},
   "outputs": [],
   "source": [
    "def get_wrapped_text(text, font, max_width):\n",
    "    words = text.split()\n",
    "    lines = []\n",
    "    current_line = []\n",
    "    current_width = 0\n",
    "\n",
    "    for word in words:\n",
    "        word_width = font.getbbox(word)[2] - font.getbbox(word)[0]\n",
    "        space_width = font.getbbox(' ')[2] - font.getbbox(' ')[0]\n",
    "        \n",
    "        if current_width + word_width + space_width <= max_width:\n",
    "            current_line.append(word)\n",
    "            current_width += word_width + space_width\n",
    "        else:\n",
    "            if current_line:\n",
    "                lines.append(' '.join(current_line))\n",
    "            current_line = [word]\n",
    "            current_width = word_width + space_width\n",
    "\n",
    "    if current_line:\n",
    "        lines.append(' '.join(current_line))\n",
    "\n",
    "    return lines"
   ]
  },
  {
   "cell_type": "code",
   "execution_count": null,
   "id": "3c4746d7-bfb4-42f1-97ba-6c58c291260f",
   "metadata": {},
   "outputs": [],
   "source": [
    "def text_to_image(text, font_path, font_size, output_path, max_width=1200, line_spacing=10):\n",
    "    try:\n",
    "        # Reshape the text\n",
    "        reshaped_text = arabic_reshaper.reshape(text)\n",
    "        \n",
    "        font = ImageFont.truetype(font_path, font_size)\n",
    "\n",
    "        # Get wrapped lines before applying bidi algorithm\n",
    "        wrapped_lines = get_wrapped_text(reshaped_text, font, max_width)\n",
    "        \n",
    "        # Apply bidi algorithm to each line separately\n",
    "        bidi_lines = [get_display(line) for line in wrapped_lines]\n",
    "\n",
    "        max_line_width = max(font.getbbox(line)[2] - font.getbbox(line)[0] for line in bidi_lines)\n",
    "        total_height = len(bidi_lines) * (font_size + line_spacing) - line_spacing\n",
    "\n",
    "        image = Image.new('RGB', (max_width + 40, total_height + 40), color='white')\n",
    "        draw = ImageDraw.Draw(image)\n",
    "\n",
    "        y_position = 20\n",
    "        for line in bidi_lines:\n",
    "            bbox = font.getbbox(line)\n",
    "            x_position = max_width + 20 - bbox[2]  # Align to the right\n",
    "            draw.text((x_position, y_position), line, font=font, fill='black')\n",
    "            y_position += font_size + line_spacing\n",
    "\n",
    "        image.save(output_path)\n",
    "        # print(f\"Image saved successfully: {output_path}\")\n",
    "    except Exception as e:\n",
    "        print(f\"Error in text_to_image function: {str(e)}\")\n",
    "\n"
   ]
  },
  {
   "cell_type": "code",
   "execution_count": null,
   "id": "36bce628-6202-4119-8826-86933bfc08ab",
   "metadata": {},
   "outputs": [],
   "source": [
    "def process_txt_files(root_dir, output_dir, font_path, font_size):\n",
    "    for dirpath, dirnames, filenames in os.walk(root_dir):\n",
    "        for filename in filenames:\n",
    "            if filename.endswith('.txt'):\n",
    "                file_path = os.path.join(dirpath, filename)\n",
    "                try:\n",
    "                    with open(file_path, 'r', encoding='utf-8') as file:\n",
    "                        content = file.read()\n",
    "                        \n",
    "                        # Create relative path for output\n",
    "                        rel_path = os.path.relpath(dirpath, root_dir)\n",
    "                        \n",
    "                        # Create output directories\n",
    "                        images_output_subdir = os.path.join(output_dir, rel_path)\n",
    "                        texts_output_subdir = os.path.join(output_dir,'text-files' , rel_path)\n",
    "                        \n",
    "                        # Create directories if they don't exist\n",
    "                        os.makedirs(images_output_subdir, exist_ok=True)\n",
    "                        os.makedirs(texts_output_subdir, exist_ok=True)\n",
    "                        \n",
    "                        # Create output paths\n",
    "                        image_filename = os.path.splitext(filename)[0] + '.png'\n",
    "                        image_path = os.path.join(images_output_subdir, image_filename)\n",
    "                        text_path = os.path.join(texts_output_subdir, filename)\n",
    "                        \n",
    "                        # Create image from text content\n",
    "                        text_to_image(content, font_path, font_size, image_path)\n",
    "                        #print(f\"Image saved: {image_path}\")\n",
    "                        \n",
    "                        # Check if text file already exists\n",
    "                        if not os.path.exists(text_path):\n",
    "                            # Save text file\n",
    "                            with open(text_path, 'w', encoding='utf-8') as text_file:\n",
    "                                text_file.write(content)\n",
    "                            #print(f\"Text saved: {text_path}\")\n",
    "                        else:\n",
    "                            print(f\"Text file already exists: {text_path}\")\n",
    "                        \n",
    "                except Exception as e:\n",
    "                    print(f\"Error processing {file_path}: {str(e)}\")"
   ]
  },
  {
   "cell_type": "code",
   "execution_count": null,
   "id": "bb380710-b6f8-4da0-a68e-09909c47b885",
   "metadata": {},
   "outputs": [],
   "source": [
    "# text files\n",
    "root_dir = \"C:/Users/QAZ/Downloads/Compressed/news-dataset/prj\"\n",
    "output_path_t = \"D:imagessss/\""
   ]
  },
  {
   "cell_type": "code",
   "execution_count": null,
   "id": "77a05103-f9ba-4bf1-a724-5c5bb86cdfde",
   "metadata": {},
   "outputs": [],
   "source": [
    "font_path_m = \"C:/Users/QAZ/AppData/Local/Microsoft/Windows/Fonts/\"\n",
    "font_size = [16,18,20,22,24]\n",
    "font_names = [\"Nazanin.ttf\", \"BArash.ttf\", \"BArshia.ttf\", \"BDavat.ttf\", \"SBARDIYA.TTF\", \"Fantezy.ttf\", \"Jaleh_MRT.ttf\", \"Smooth Light_MRT.ttf\", \"Ghalam-2_MRT.TTF\", \"NasimB.ttf\"]"
   ]
  },
  {
   "cell_type": "code",
   "execution_count": null,
   "id": "9d255555-ef9e-46e5-8d7a-75a0c562e6cf",
   "metadata": {},
   "outputs": [],
   "source": [
    "for font in font_names:\n",
    "    font_path = font_path_m + font\n",
    "    #print(font_path)\n",
    "    for size in font_size:\n",
    "        output_path = output_path_t + font + '-' + str(size)\n",
    "        process_txt_files(root_dir, output_path, font_path, size)"
   ]
  },
  {
   "cell_type": "code",
   "execution_count": null,
   "id": "df7cb131-ecb8-4c54-8e8c-6837ae57f276",
   "metadata": {},
   "outputs": [],
   "source": []
  }
 ],
 "metadata": {
  "kernelspec": {
   "display_name": "Python 3 (ipykernel)",
   "language": "python",
   "name": "python3"
  },
  "language_info": {
   "codemirror_mode": {
    "name": "ipython",
    "version": 3
   },
   "file_extension": ".py",
   "mimetype": "text/x-python",
   "name": "python",
   "nbconvert_exporter": "python",
   "pygments_lexer": "ipython3",
   "version": "3.12.4"
  }
 },
 "nbformat": 4,
 "nbformat_minor": 5
}
